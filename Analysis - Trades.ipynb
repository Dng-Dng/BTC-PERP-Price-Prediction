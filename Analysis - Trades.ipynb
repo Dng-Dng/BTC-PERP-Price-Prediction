{
 "cells": [
  {
   "cell_type": "code",
   "execution_count": 1,
   "id": "ecce53aa",
   "metadata": {},
   "outputs": [],
   "source": [
    "import pandas as pd\n",
    "import numpy as np\n",
    "import matplotlib.pyplot as plt\n",
    "path = r\"C:\\Users\\danie\\Desktop\\master_project-env\\datasets_combined\\Downsampled\"\n"
   ]
  },
  {
   "cell_type": "code",
   "execution_count": 2,
   "id": "0c4dc2ac",
   "metadata": {},
   "outputs": [],
   "source": [
    "#original\n",
    "ftx_trade = pd.read_parquet(r\"C:\\Users\\danie\\Desktop\\master_project-env\\datasets_combined\\Downsampled\\ftx_trades_downsampled.parquet.gz\")\n",
    "# table = pd.read_csv(r\"C:\\Users\\danie\\Desktop\\master_project-env\\datasets_combined\\ftx_trades.csv.gz\")\n",
    "# table['timestamp'] = pd.to_datetime(table['timestamp'])\n",
    "# table = table.set_index('timestamp')\n",
    "\n",
    "# #compute trade size \n",
    "# table['size'] = table['price'] * table['amount']\n",
    "\n",
    "# #one column for trade count\n",
    "# table.insert(0, 'ones', np.ones(len(table)))\n",
    "\n",
    "# table = table.resample('S').sum() #total trade\n",
    "\n",
    "# ftx_trade['order_count'] = table['ones']\n",
    "# ftx_trade['trade_size'] = table['price'] * table['amount']\n",
    "\n",
    "# ftx_trade = ftx_trade.drop(columns=['id', 'price', 'amount'])\n",
    "\n",
    "# ftx_trade.head()\n"
   ]
  },
  {
   "cell_type": "code",
   "execution_count": 6,
   "id": "0278a7e1",
   "metadata": {},
   "outputs": [
    {
     "data": {
      "text/html": [
       "<div>\n",
       "<style scoped>\n",
       "    .dataframe tbody tr th:only-of-type {\n",
       "        vertical-align: middle;\n",
       "    }\n",
       "\n",
       "    .dataframe tbody tr th {\n",
       "        vertical-align: top;\n",
       "    }\n",
       "\n",
       "    .dataframe thead th {\n",
       "        text-align: right;\n",
       "    }\n",
       "</style>\n",
       "<table border=\"1\" class=\"dataframe\">\n",
       "  <thead>\n",
       "    <tr style=\"text-align: right;\">\n",
       "      <th></th>\n",
       "      <th>order_count</th>\n",
       "      <th>trade_size</th>\n",
       "    </tr>\n",
       "    <tr>\n",
       "      <th>timestamp</th>\n",
       "      <th></th>\n",
       "      <th></th>\n",
       "    </tr>\n",
       "  </thead>\n",
       "  <tbody>\n",
       "    <tr>\n",
       "      <th>2021-11-19 00:00:00</th>\n",
       "      <td>3.0</td>\n",
       "      <td>3.782356e+04</td>\n",
       "    </tr>\n",
       "    <tr>\n",
       "      <th>2021-11-19 00:00:01</th>\n",
       "      <td>1.0</td>\n",
       "      <td>2.163112e+02</td>\n",
       "    </tr>\n",
       "    <tr>\n",
       "      <th>2021-11-19 00:00:02</th>\n",
       "      <td>4.0</td>\n",
       "      <td>3.297096e+04</td>\n",
       "    </tr>\n",
       "    <tr>\n",
       "      <th>2021-11-19 00:00:03</th>\n",
       "      <td>6.0</td>\n",
       "      <td>4.050724e+04</td>\n",
       "    </tr>\n",
       "    <tr>\n",
       "      <th>2021-11-19 00:00:04</th>\n",
       "      <td>66.0</td>\n",
       "      <td>2.455565e+06</td>\n",
       "    </tr>\n",
       "  </tbody>\n",
       "</table>\n",
       "</div>"
      ],
      "text/plain": [
       "                     order_count    trade_size\n",
       "timestamp                                     \n",
       "2021-11-19 00:00:00          3.0  3.782356e+04\n",
       "2021-11-19 00:00:01          1.0  2.163112e+02\n",
       "2021-11-19 00:00:02          4.0  3.297096e+04\n",
       "2021-11-19 00:00:03          6.0  4.050724e+04\n",
       "2021-11-19 00:00:04         66.0  2.455565e+06"
      ]
     },
     "metadata": {},
     "output_type": "display_data"
    },
    {
     "data": {
      "text/html": [
       "<div>\n",
       "<style scoped>\n",
       "    .dataframe tbody tr th:only-of-type {\n",
       "        vertical-align: middle;\n",
       "    }\n",
       "\n",
       "    .dataframe tbody tr th {\n",
       "        vertical-align: top;\n",
       "    }\n",
       "\n",
       "    .dataframe thead th {\n",
       "        text-align: right;\n",
       "    }\n",
       "</style>\n",
       "<table border=\"1\" class=\"dataframe\">\n",
       "  <thead>\n",
       "    <tr style=\"text-align: right;\">\n",
       "      <th></th>\n",
       "      <th>order_count</th>\n",
       "      <th>trade_size</th>\n",
       "    </tr>\n",
       "    <tr>\n",
       "      <th>timestamp</th>\n",
       "      <th></th>\n",
       "      <th></th>\n",
       "    </tr>\n",
       "  </thead>\n",
       "  <tbody>\n",
       "    <tr>\n",
       "      <th>2021-12-18 23:59:55</th>\n",
       "      <td>0.0</td>\n",
       "      <td>0.0000</td>\n",
       "    </tr>\n",
       "    <tr>\n",
       "      <th>2021-12-18 23:59:56</th>\n",
       "      <td>1.0</td>\n",
       "      <td>1077.3890</td>\n",
       "    </tr>\n",
       "    <tr>\n",
       "      <th>2021-12-18 23:59:57</th>\n",
       "      <td>0.0</td>\n",
       "      <td>0.0000</td>\n",
       "    </tr>\n",
       "    <tr>\n",
       "      <th>2021-12-18 23:59:58</th>\n",
       "      <td>1.0</td>\n",
       "      <td>46.8430</td>\n",
       "    </tr>\n",
       "    <tr>\n",
       "      <th>2021-12-18 23:59:59</th>\n",
       "      <td>14.0</td>\n",
       "      <td>817194.8722</td>\n",
       "    </tr>\n",
       "  </tbody>\n",
       "</table>\n",
       "</div>"
      ],
      "text/plain": [
       "                     order_count   trade_size\n",
       "timestamp                                    \n",
       "2021-12-18 23:59:55          0.0       0.0000\n",
       "2021-12-18 23:59:56          1.0    1077.3890\n",
       "2021-12-18 23:59:57          0.0       0.0000\n",
       "2021-12-18 23:59:58          1.0      46.8430\n",
       "2021-12-18 23:59:59         14.0  817194.8722"
      ]
     },
     "metadata": {},
     "output_type": "display_data"
    },
    {
     "data": {
      "text/plain": [
       "2591997"
      ]
     },
     "metadata": {},
     "output_type": "display_data"
    }
   ],
   "source": [
    "display(ftx_trade.head())\n",
    "display(ftx_trade.tail())\n",
    "display(len(ftx_trade))"
   ]
  },
  {
   "cell_type": "code",
   "execution_count": 143,
   "id": "62958f5a",
   "metadata": {},
   "outputs": [],
   "source": [
    "path = r\"C:\\Users\\danie\\Desktop\\master_project-env\\datasets_combined\"\n",
    "filetype = 'trades'\n",
    "ftx_trade.to_parquet(path + \"\\\\dokjwnsampled\\\\\" + 'ftx' + \"_\" + filetype + \"_downsampled.parquet.gz\", compression='gzip')"
   ]
  },
  {
   "cell_type": "code",
   "execution_count": 59,
   "id": "d9375f73",
   "metadata": {},
   "outputs": [
    {
     "data": {
      "text/plain": [
       "timestamp\n",
       "2021-11-19 00:00:00    False\n",
       "2021-11-19 00:00:01    False\n",
       "2021-11-19 00:00:02    False\n",
       "2021-11-19 00:00:03    False\n",
       "2021-11-19 00:00:04    False\n",
       "                       ...  \n",
       "2021-12-18 23:59:55    False\n",
       "2021-12-18 23:59:56    False\n",
       "2021-12-18 23:59:57    False\n",
       "2021-12-18 23:59:58    False\n",
       "2021-12-18 23:59:59    False\n",
       "Name: timestamp, Length: 2591997, dtype: bool"
      ]
     },
     "execution_count": 59,
     "metadata": {},
     "output_type": "execute_result"
    }
   ],
   "source": [
    "d = ftx_trade.index.to_series().diff()\n",
    "(d > d.mode()[0])"
   ]
  },
  {
   "cell_type": "code",
   "execution_count": 54,
   "id": "73c83a06",
   "metadata": {},
   "outputs": [
    {
     "data": {
      "text/plain": [
       "pandas.core.indexes.datetimes.DatetimeIndex"
      ]
     },
     "execution_count": 54,
     "metadata": {},
     "output_type": "execute_result"
    }
   ],
   "source": []
  },
  {
   "cell_type": "code",
   "execution_count": null,
   "id": "89e8abb2",
   "metadata": {},
   "outputs": [],
   "source": []
  }
 ],
 "metadata": {
  "kernelspec": {
   "display_name": "Python 3 (ipykernel)",
   "language": "python",
   "name": "python3"
  },
  "language_info": {
   "codemirror_mode": {
    "name": "ipython",
    "version": 3
   },
   "file_extension": ".py",
   "mimetype": "text/x-python",
   "name": "python",
   "nbconvert_exporter": "python",
   "pygments_lexer": "ipython3",
   "version": "3.10.2"
  }
 },
 "nbformat": 4,
 "nbformat_minor": 5
}
